{
 "cells": [
  {
   "cell_type": "markdown",
   "id": "58eed115",
   "metadata": {},
   "source": [
    "# Working with artist-data.csv"
   ]
  },
  {
   "cell_type": "markdown",
   "id": "f2fac939",
   "metadata": {},
   "source": [
    "### Since this dataset comes from the web \"vagalume\"  in Brazil, we can see from these data some Brazilian people's preferences for singers and song styles.\n",
    "\n",
    "### Questions I want to explore: \n",
    "### 1. What are the most popular singers and their corresponding genres?\n",
    "### 2. Is there a correlation between an artist's genre and his or her popularity?"
   ]
  },
  {
   "cell_type": "code",
   "execution_count": 1,
   "id": "81724a68",
   "metadata": {},
   "outputs": [],
   "source": [
    "import pandas as pd"
   ]
  },
  {
   "cell_type": "code",
   "execution_count": 2,
   "id": "5b06b4ab",
   "metadata": {},
   "outputs": [],
   "source": [
    "pd.options.display.max_rows = 200"
   ]
  },
  {
   "cell_type": "code",
   "execution_count": 3,
   "id": "50850f3d",
   "metadata": {},
   "outputs": [],
   "source": [
    "artists_df = pd.read_csv('artists-data.csv', delimiter=\",\", encoding='utf-8')"
   ]
  },
  {
   "cell_type": "code",
   "execution_count": 4,
   "id": "82d4438b",
   "metadata": {},
   "outputs": [
    {
     "data": {
      "text/html": [
       "<div>\n",
       "<style scoped>\n",
       "    .dataframe tbody tr th:only-of-type {\n",
       "        vertical-align: middle;\n",
       "    }\n",
       "\n",
       "    .dataframe tbody tr th {\n",
       "        vertical-align: top;\n",
       "    }\n",
       "\n",
       "    .dataframe thead th {\n",
       "        text-align: right;\n",
       "    }\n",
       "</style>\n",
       "<table border=\"1\" class=\"dataframe\">\n",
       "  <thead>\n",
       "    <tr style=\"text-align: right;\">\n",
       "      <th></th>\n",
       "      <th>Artist</th>\n",
       "      <th>Genres</th>\n",
       "      <th>Songs</th>\n",
       "      <th>Popularity</th>\n",
       "      <th>Link</th>\n",
       "    </tr>\n",
       "  </thead>\n",
       "  <tbody>\n",
       "    <tr>\n",
       "      <th>308</th>\n",
       "      <td>Jennette McCurdy</td>\n",
       "      <td>Pop; Romântico; Country</td>\n",
       "      <td>38.0</td>\n",
       "      <td>0.0</td>\n",
       "      <td>/jennette-mccurdy/</td>\n",
       "    </tr>\n",
       "    <tr>\n",
       "      <th>4133</th>\n",
       "      <td>Smoke City</td>\n",
       "      <td>Trip-Hop; Blues; Hip Hop</td>\n",
       "      <td>19.0</td>\n",
       "      <td>0.0</td>\n",
       "      <td>/smoke-city/</td>\n",
       "    </tr>\n",
       "    <tr>\n",
       "      <th>536</th>\n",
       "      <td>Videoclub</td>\n",
       "      <td>House; Electronica; Pop</td>\n",
       "      <td>4.0</td>\n",
       "      <td>0.1</td>\n",
       "      <td>/videoclub/</td>\n",
       "    </tr>\n",
       "    <tr>\n",
       "      <th>1398</th>\n",
       "      <td>Melosweet</td>\n",
       "      <td>Gospel/Religioso; Romântico; Instrumental</td>\n",
       "      <td>58.0</td>\n",
       "      <td>0.0</td>\n",
       "      <td>/melosweet/</td>\n",
       "    </tr>\n",
       "    <tr>\n",
       "      <th>636</th>\n",
       "      <td>Neil Young</td>\n",
       "      <td>Rock; Folk</td>\n",
       "      <td>517.0</td>\n",
       "      <td>2.6</td>\n",
       "      <td>/neil-young/</td>\n",
       "    </tr>\n",
       "    <tr>\n",
       "      <th>3059</th>\n",
       "      <td>Ramirez</td>\n",
       "      <td>Pop/Rock; Rock; Emocore</td>\n",
       "      <td>47.0</td>\n",
       "      <td>0.0</td>\n",
       "      <td>/ramirez/</td>\n",
       "    </tr>\n",
       "    <tr>\n",
       "      <th>2048</th>\n",
       "      <td>Of Monsters and Men</td>\n",
       "      <td>Indie</td>\n",
       "      <td>45.0</td>\n",
       "      <td>2.3</td>\n",
       "      <td>/of-monsters-and-men/</td>\n",
       "    </tr>\n",
       "    <tr>\n",
       "      <th>1595</th>\n",
       "      <td>Avenged Sevenfold</td>\n",
       "      <td>Hard Rock; Heavy Metal; Rock</td>\n",
       "      <td>119.0</td>\n",
       "      <td>5.3</td>\n",
       "      <td>/avenged-sevenfold/</td>\n",
       "    </tr>\n",
       "    <tr>\n",
       "      <th>2455</th>\n",
       "      <td>90sFlav</td>\n",
       "      <td>Lo-fi</td>\n",
       "      <td>6.0</td>\n",
       "      <td>0.0</td>\n",
       "      <td>/90sflav/</td>\n",
       "    </tr>\n",
       "    <tr>\n",
       "      <th>3345</th>\n",
       "      <td>Shaggy</td>\n",
       "      <td>Reggae</td>\n",
       "      <td>86.0</td>\n",
       "      <td>1.0</td>\n",
       "      <td>/shaggy/</td>\n",
       "    </tr>\n",
       "  </tbody>\n",
       "</table>\n",
       "</div>"
      ],
      "text/plain": [
       "                   Artist                                     Genres  Songs  \\\n",
       "308      Jennette McCurdy                    Pop; Romântico; Country   38.0   \n",
       "4133           Smoke City                   Trip-Hop; Blues; Hip Hop   19.0   \n",
       "536             Videoclub                    House; Electronica; Pop    4.0   \n",
       "1398            Melosweet  Gospel/Religioso; Romântico; Instrumental   58.0   \n",
       "636            Neil Young                                 Rock; Folk  517.0   \n",
       "3059              Ramirez                    Pop/Rock; Rock; Emocore   47.0   \n",
       "2048  Of Monsters and Men                                      Indie   45.0   \n",
       "1595    Avenged Sevenfold               Hard Rock; Heavy Metal; Rock  119.0   \n",
       "2455              90sFlav                                      Lo-fi    6.0   \n",
       "3345               Shaggy                                     Reggae   86.0   \n",
       "\n",
       "      Popularity                   Link  \n",
       "308          0.0     /jennette-mccurdy/  \n",
       "4133         0.0           /smoke-city/  \n",
       "536          0.1            /videoclub/  \n",
       "1398         0.0            /melosweet/  \n",
       "636          2.6           /neil-young/  \n",
       "3059         0.0              /ramirez/  \n",
       "2048         2.3  /of-monsters-and-men/  \n",
       "1595         5.3    /avenged-sevenfold/  \n",
       "2455         0.0              /90sflav/  \n",
       "3345         1.0               /shaggy/  "
      ]
     },
     "execution_count": 4,
     "metadata": {},
     "output_type": "execute_result"
    }
   ],
   "source": [
    "artists_df.sample(10)"
   ]
  },
  {
   "cell_type": "code",
   "execution_count": 61,
   "id": "92d624a1",
   "metadata": {},
   "outputs": [
    {
     "data": {
      "text/html": [
       "<div>\n",
       "<style scoped>\n",
       "    .dataframe tbody tr th:only-of-type {\n",
       "        vertical-align: middle;\n",
       "    }\n",
       "\n",
       "    .dataframe tbody tr th {\n",
       "        vertical-align: top;\n",
       "    }\n",
       "\n",
       "    .dataframe thead th {\n",
       "        text-align: right;\n",
       "    }\n",
       "</style>\n",
       "<table border=\"1\" class=\"dataframe\">\n",
       "  <thead>\n",
       "    <tr style=\"text-align: right;\">\n",
       "      <th></th>\n",
       "      <th>Artist</th>\n",
       "      <th>Genres</th>\n",
       "      <th>Songs</th>\n",
       "      <th>Popularity</th>\n",
       "      <th>Link</th>\n",
       "      <th>genre_count</th>\n",
       "    </tr>\n",
       "  </thead>\n",
       "  <tbody>\n",
       "    <tr>\n",
       "      <th>44</th>\n",
       "      <td>Beyoncé</td>\n",
       "      <td>Pop; R&amp;B; Black Music</td>\n",
       "      <td>276.0</td>\n",
       "      <td>205.5</td>\n",
       "      <td>/beyonce/</td>\n",
       "      <td>3</td>\n",
       "    </tr>\n",
       "    <tr>\n",
       "      <th>334</th>\n",
       "      <td>Anitta</td>\n",
       "      <td>Pop; Dance; Funk Carioca</td>\n",
       "      <td>150.0</td>\n",
       "      <td>119.6</td>\n",
       "      <td>/anitta/</td>\n",
       "      <td>3</td>\n",
       "    </tr>\n",
       "    <tr>\n",
       "      <th>505</th>\n",
       "      <td>Sia</td>\n",
       "      <td>Trip-Hop; Pop; Romântico</td>\n",
       "      <td>199.0</td>\n",
       "      <td>135.1</td>\n",
       "      <td>/sia/</td>\n",
       "      <td>3</td>\n",
       "    </tr>\n",
       "    <tr>\n",
       "      <th>623</th>\n",
       "      <td>Ed Sheeran</td>\n",
       "      <td>Indie; Romântico; Pop/Rock</td>\n",
       "      <td>224.0</td>\n",
       "      <td>114.2</td>\n",
       "      <td>/ed-sheeran/</td>\n",
       "      <td>3</td>\n",
       "    </tr>\n",
       "    <tr>\n",
       "      <th>1017</th>\n",
       "      <td>Harpa Cristã</td>\n",
       "      <td>Gospel/Religioso</td>\n",
       "      <td>575.0</td>\n",
       "      <td>108.0</td>\n",
       "      <td>/harpa-crista/</td>\n",
       "      <td>1</td>\n",
       "    </tr>\n",
       "    <tr>\n",
       "      <th>1854</th>\n",
       "      <td>Eminem</td>\n",
       "      <td>Hip Hop; Rap</td>\n",
       "      <td>486.0</td>\n",
       "      <td>114.9</td>\n",
       "      <td>/eminem/</td>\n",
       "      <td>2</td>\n",
       "    </tr>\n",
       "    <tr>\n",
       "      <th>2023</th>\n",
       "      <td>Coldplay</td>\n",
       "      <td>Pop/Rock; Piano Rock; Soft Rock</td>\n",
       "      <td>232.0</td>\n",
       "      <td>107.4</td>\n",
       "      <td>/coldplay/</td>\n",
       "      <td>3</td>\n",
       "    </tr>\n",
       "    <tr>\n",
       "      <th>2734</th>\n",
       "      <td>Adele</td>\n",
       "      <td>Soul Music; Pop; R&amp;B</td>\n",
       "      <td>80.0</td>\n",
       "      <td>119.3</td>\n",
       "      <td>/adele/</td>\n",
       "      <td>3</td>\n",
       "    </tr>\n",
       "  </tbody>\n",
       "</table>\n",
       "</div>"
      ],
      "text/plain": [
       "            Artist                           Genres  Songs  Popularity  \\\n",
       "44         Beyoncé            Pop; R&B; Black Music  276.0       205.5   \n",
       "334         Anitta         Pop; Dance; Funk Carioca  150.0       119.6   \n",
       "505            Sia         Trip-Hop; Pop; Romântico  199.0       135.1   \n",
       "623     Ed Sheeran       Indie; Romântico; Pop/Rock  224.0       114.2   \n",
       "1017  Harpa Cristã                 Gospel/Religioso  575.0       108.0   \n",
       "1854        Eminem                     Hip Hop; Rap  486.0       114.9   \n",
       "2023      Coldplay  Pop/Rock; Piano Rock; Soft Rock  232.0       107.4   \n",
       "2734         Adele             Soul Music; Pop; R&B   80.0       119.3   \n",
       "\n",
       "                Link  genre_count  \n",
       "44         /beyonce/            3  \n",
       "334         /anitta/            3  \n",
       "505            /sia/            3  \n",
       "623     /ed-sheeran/            3  \n",
       "1017  /harpa-crista/            1  \n",
       "1854        /eminem/            2  \n",
       "2023      /coldplay/            3  \n",
       "2734         /adele/            3  "
      ]
     },
     "execution_count": 61,
     "metadata": {},
     "output_type": "execute_result"
    }
   ],
   "source": [
    "artists_df[artists_df['Popularity'] > 100]"
   ]
  },
  {
   "cell_type": "markdown",
   "id": "96a018be",
   "metadata": {},
   "source": [
    " Sure enough, Beyoncé’s influence is huge, and the second-ranked female singer is from Brazil. And we can find that the only hip-hop singer whose popularity is greater than 100 is Eminem."
   ]
  },
  {
   "cell_type": "markdown",
   "id": "53a0966f",
   "metadata": {},
   "source": [
    "___"
   ]
  },
  {
   "cell_type": "markdown",
   "id": "f97ec9c7",
   "metadata": {},
   "source": [
    "Find a specific artist that I am intersted."
   ]
  },
  {
   "cell_type": "code",
   "execution_count": 68,
   "id": "6537c219",
   "metadata": {},
   "outputs": [],
   "source": [
    "artists_filter = artists_df.loc[artists_df['Artist'] == 'Kanye West']"
   ]
  },
  {
   "cell_type": "code",
   "execution_count": 69,
   "id": "733697ab",
   "metadata": {},
   "outputs": [
    {
     "data": {
      "text/html": [
       "<div>\n",
       "<style scoped>\n",
       "    .dataframe tbody tr th:only-of-type {\n",
       "        vertical-align: middle;\n",
       "    }\n",
       "\n",
       "    .dataframe tbody tr th {\n",
       "        vertical-align: top;\n",
       "    }\n",
       "\n",
       "    .dataframe thead th {\n",
       "        text-align: right;\n",
       "    }\n",
       "</style>\n",
       "<table border=\"1\" class=\"dataframe\">\n",
       "  <thead>\n",
       "    <tr style=\"text-align: right;\">\n",
       "      <th></th>\n",
       "      <th>Artist</th>\n",
       "      <th>Genres</th>\n",
       "      <th>Songs</th>\n",
       "      <th>Popularity</th>\n",
       "      <th>Link</th>\n",
       "      <th>genre_count</th>\n",
       "    </tr>\n",
       "  </thead>\n",
       "  <tbody>\n",
       "    <tr>\n",
       "      <th>59</th>\n",
       "      <td>Kanye West</td>\n",
       "      <td>Hip Hop; R&amp;B; Rap</td>\n",
       "      <td>298.0</td>\n",
       "      <td>14.0</td>\n",
       "      <td>/kanye-west/</td>\n",
       "      <td>3</td>\n",
       "    </tr>\n",
       "  </tbody>\n",
       "</table>\n",
       "</div>"
      ],
      "text/plain": [
       "        Artist             Genres  Songs  Popularity          Link  \\\n",
       "59  Kanye West  Hip Hop; R&B; Rap  298.0        14.0  /kanye-west/   \n",
       "\n",
       "    genre_count  \n",
       "59            3  "
      ]
     },
     "execution_count": 69,
     "metadata": {},
     "output_type": "execute_result"
    }
   ],
   "source": [
    "artists_filter"
   ]
  },
  {
   "cell_type": "markdown",
   "id": "c1aa5420",
   "metadata": {},
   "source": [
    " It turns out that Kanye West’s rap is not to the Brazilian people’s musical appetite."
   ]
  },
  {
   "cell_type": "markdown",
   "id": "b79ae7aa",
   "metadata": {},
   "source": [
    "Make a histogram of the DataFrame"
   ]
  },
  {
   "cell_type": "code",
   "execution_count": 5,
   "id": "481312f5",
   "metadata": {},
   "outputs": [
    {
     "data": {
      "text/plain": [
       "array([[<Axes: title={'center': 'Songs'}>,\n",
       "        <Axes: title={'center': 'Popularity'}>]], dtype=object)"
      ]
     },
     "execution_count": 5,
     "metadata": {},
     "output_type": "execute_result"
    },
    {
     "data": {
      "image/png": "[encoded data removed]",
      "text/plain": [
       "<Figure size 1000x1000 with 2 Axes>"
      ]
     },
     "metadata": {},
     "output_type": "display_data"
    }
   ],
   "source": [
    "artists_df.hist(figsize=(10,10))"
   ]
  },
  {
   "cell_type": "markdown",
   "id": "4b3ebcb1",
   "metadata": {},
   "source": [
    "Sort the DataFrame from the character who has the highest `popularity` to the lowest.  "
   ]
  },
  {
   "cell_type": "code",
   "execution_count": 70,
   "id": "0a49cd7f",
   "metadata": {},
   "outputs": [
    {
     "name": "stdout",
     "output_type": "stream",
     "text": [
      "                         Artist                           Genres  Songs  \\\n",
      "44                      Beyoncé            Pop; R&B; Black Music  276.0   \n",
      "505                         Sia         Trip-Hop; Pop; Romântico  199.0   \n",
      "334                      Anitta         Pop; Dance; Funk Carioca  150.0   \n",
      "2734                      Adele             Soul Music; Pop; R&B   80.0   \n",
      "1854                     Eminem                     Hip Hop; Rap  486.0   \n",
      "623                  Ed Sheeran       Indie; Romântico; Pop/Rock  224.0   \n",
      "1017               Harpa Cristã                 Gospel/Religioso  575.0   \n",
      "2023                   Coldplay  Pop/Rock; Piano Rock; Soft Rock  232.0   \n",
      "2735                       Pink                    Pop/Rock; Pop  187.0   \n",
      "250                Taylor Swift         Pop; Romântico; Pop/Rock  387.0   \n",
      "2024            Imagine Dragons    Rock; Rock Alternativo; Indie  130.0   \n",
      "335               Justin Bieber            Dance; Pop; Romântico  279.0   \n",
      "869                    Ludmilla                     Funk Carioca  101.0   \n",
      "3132                The Beatles       Rock; Psicodelia; Pop/Rock  335.0   \n",
      "2736                   Maroon 5              Pop; Rock; Pop/Rock  168.0   \n",
      "45                   Bruno Mars            R&B; Pop; Black Music  122.0   \n",
      "3600  Zezé Di Camargo e Luciano    Sertanejo; Romântico; Country  466.0   \n",
      "336                   Lady Gaga             Dance; Pop; Pop/Rock  281.0   \n",
      "2025               Lana Del Rey                 Romântico; Indie  311.0   \n",
      "337               Ariana Grande            Pop; Dance; Romântico  189.0   \n",
      "\n",
      "      Popularity                         Link  genre_count  \n",
      "44         205.5                    /beyonce/            3  \n",
      "505        135.1                        /sia/            3  \n",
      "334        119.6                     /anitta/            3  \n",
      "2734       119.3                      /adele/            3  \n",
      "1854       114.9                     /eminem/            2  \n",
      "623        114.2                 /ed-sheeran/            3  \n",
      "1017       108.0               /harpa-crista/            1  \n",
      "2023       107.4                   /coldplay/            3  \n",
      "2735        84.4                       /pink/            2  \n",
      "250         72.7               /taylor-swift/            3  \n",
      "2024        67.5            /imagine-dragons/            3  \n",
      "335         66.8              /justin-bieber/            3  \n",
      "869         65.1                   /ludmilla/            1  \n",
      "3132        64.2                /the-beatles/            3  \n",
      "2736        64.0                   /maroon-5/            3  \n",
      "45          62.5                 /bruno-mars/            3  \n",
      "3600        60.8  /zeze-di-camargo-e-luciano/            3  \n",
      "336         56.2                  /lady-gaga/            3  \n",
      "2025        53.3               /lana-del-rey/            2  \n",
      "337         53.1              /ariana-grande/            3  \n"
     ]
    }
   ],
   "source": [
    "sorted_df = artists_df.sort_values(by='Popularity', ascending=False)\n",
    "top_20_rows = sorted_df.head(20)\n",
    "print(top_20_rows)"
   ]
  },
  {
   "cell_type": "markdown",
   "id": "1908e218",
   "metadata": {},
   "source": [
    "Sort the DataFrame from the character who has the lowest `popularity` to the highest. "
   ]
  },
  {
   "cell_type": "code",
   "execution_count": 71,
   "id": "645e2200",
   "metadata": {
    "scrolled": true
   },
   "outputs": [
    {
     "name": "stdout",
     "output_type": "stream",
     "text": [
      "                Artist                         Genres  Songs  Popularity  \\\n",
      "4167      Johnny Clegg  World Music; Gospel/Religioso   34.0         0.0   \n",
      "1971          Yung Joc      Hip Hop; Rap; Black Music   37.0         0.0   \n",
      "1972  Christina Milian        Romântico; Hip Hop; Pop   62.0         0.0   \n",
      "1973      Slum Village                   Hip Hop; Rap   31.0         0.0   \n",
      "1974       Rene Fellix                   Hip Hop; Rap    8.0         0.0   \n",
      "1975             Yusei                 Hip Hop; Lo-fi    6.0         0.0   \n",
      "1976            Vloudy                  Hip Hop; Trap    2.0         0.0   \n",
      "1977              Jhef              Hip Hop; Rap; R&B   23.0         0.0   \n",
      "1978          Mystikal                   Hip Hop; Rap   80.0         0.0   \n",
      "1970             Plies      Rap; Hip Hop; Black Music   86.0         0.0   \n",
      "1979       Young Money              Hip Hop; Rap; R&B   29.0         0.0   \n",
      "1981           Digga D                   Rap; Hip Hop   12.0         0.0   \n",
      "1982      Danilo Todie                   Hip Hop; Rap   32.0         0.0   \n",
      "1983          CRIS SNJ                   Hip Hop; Rap    1.0         0.0   \n",
      "1984          Blunt.on             Trap; Hip Hop; R&B    0.0         0.0   \n",
      "1985           Flobots             Rap; Hip Hop; Rock   31.0         0.0   \n",
      "1986        Kris Kross                        Hip Hop    9.0         0.0   \n",
      "1988       Muleca XIII           Reggae; Hip Hop; Rap    2.0         0.0   \n",
      "1989             Nickz             Trap; Hip Hop; Rap   44.0         0.0   \n",
      "1980        Ester Dean              Rap; Hip Hop; R&B   37.0         0.0   \n",
      "\n",
      "                    Link  genre_count  \n",
      "4167      /clegg-johnny/            2  \n",
      "1971          /yung-joc/            3  \n",
      "1972  /christina-milian/            3  \n",
      "1973      /slum-village/            2  \n",
      "1974       /rene-fellix/            2  \n",
      "1975             /yusei/            2  \n",
      "1976            /vloudy/            2  \n",
      "1977              /jhef/            3  \n",
      "1978          /mystikal/            2  \n",
      "1970             /plies/            3  \n",
      "1979       /young-money/            3  \n",
      "1981           /digga-d/            2  \n",
      "1982      /danilo-todie/            2  \n",
      "1983          /cris-snj/            2  \n",
      "1984          /blunt-on/            3  \n",
      "1985           /flobots/            3  \n",
      "1986        /kris-kross/            1  \n",
      "1988       /muleca-xiii/            3  \n",
      "1989             /nickz/            3  \n",
      "1980        /ester-dean/            3  \n"
     ]
    }
   ],
   "source": [
    "sorted_df = artists_df.sort_values(by='Popularity', ascending=True)\n",
    "bottom_20_rows = sorted_df.head(20)\n",
    "print(bottom_20_rows)"
   ]
  },
  {
   "cell_type": "markdown",
   "id": "75d72862",
   "metadata": {},
   "source": [
    "Could there also be a connection between genre and popularity? Most of the artists in the table correspond to multiple genres. I first grouped the genres according to the artists, then calculated the average popularity of the genres, and selected the top ten to display."
   ]
  },
  {
   "cell_type": "code",
   "execution_count": 17,
   "id": "5b177c1d",
   "metadata": {},
   "outputs": [],
   "source": [
    "import matplotlib.pyplot as plt"
   ]
  },
  {
   "cell_type": "code",
   "execution_count": 18,
   "id": "1b957657",
   "metadata": {},
   "outputs": [],
   "source": [
    "genres = artists_df['Genres'].astype(str)\n",
    "popularity = artists_df['Popularity'].astype(str)"
   ]
  },
  {
   "cell_type": "code",
   "execution_count": 19,
   "id": "692cae7d",
   "metadata": {},
   "outputs": [],
   "source": [
    "average_popularity = artists_df.groupby('Genres')['Popularity'].mean()"
   ]
  },
  {
   "cell_type": "code",
   "execution_count": 20,
   "id": "b995ab1a",
   "metadata": {},
   "outputs": [],
   "source": [
    "top_genres = average_popularity.nlargest(10)"
   ]
  },
  {
   "cell_type": "code",
   "execution_count": 74,
   "id": "6854a42e",
   "metadata": {},
   "outputs": [
    {
     "data": {
      "image/png": "[encoded data removed]",
      "text/plain": [
       "<Figure size 1000x600 with 1 Axes>"
      ]
     },
     "metadata": {},
     "output_type": "display_data"
    }
   ],
   "source": [
    "plt.figure(figsize=(10, 6))\n",
    "top_genres.plot(kind='bar')\n",
    "plt.xlabel('Genres')\n",
    "plt.ylabel('average_popularity')\n",
    "plt.title('Top 10 A_P')\n",
    "plt.show()"
   ]
  },
  {
   "cell_type": "markdown",
   "id": "d7f77873",
   "metadata": {},
   "source": [
    "For me, this is the first time I have seen the music genre trip-hop. It turns out that for the Brazilian people, trip-hop music is one of their favorite.I think there is a correlation between genre and popularity. Hip hop does not appear in the top ten column charts. This result is also very similar to the table results of the bottom 20 genres and singers in popularity. Perhaps hip-hop singers are less popular in the Brazilian music market than singers who focus on pop, trip-hop and romantico styles."
   ]
  },
  {
   "cell_type": "code",
   "execution_count": null,
   "id": "dbbb6dcc",
   "metadata": {},
   "outputs": [],
   "source": []
  }
 ],
 "metadata": {
  "kernelspec": {
   "display_name": "Python 3 (ipykernel)",
   "language": "python",
   "name": "python3"
  },
  "language_info": {
   "codemirror_mode": {
    "name": "ipython",
    "version": 3
   },
   "file_extension": ".py",
   "mimetype": "text/x-python",
   "name": "python",
   "nbconvert_exporter": "python",
   "pygments_lexer": "ipython3",
   "version": "3.11.4"
  }
 },
 "nbformat": 4,
 "nbformat_minor": 5
}
